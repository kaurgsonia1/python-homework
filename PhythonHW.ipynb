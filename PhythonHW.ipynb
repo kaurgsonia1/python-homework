{
 "cells": [
  {
   "cell_type": "code",
   "execution_count": 46,
   "metadata": {},
   "outputs": [
    {
     "name": "stdout",
     "output_type": "stream",
     "text": [
      "['Date', 'Profit/Losses'] <----HEADER\n",
      "86\n",
      "38382578\n",
      "-2315.1176470588234\n"
     ]
    },
    {
     "ename": "TypeError",
     "evalue": "'int' object is not iterable",
     "output_type": "error",
     "traceback": [
      "\u001b[1;31m---------------------------------------------------------------------------\u001b[0m",
      "\u001b[1;31mTypeError\u001b[0m                                 Traceback (most recent call last)",
      "\u001b[1;32m<ipython-input-46-862a52265596>\u001b[0m in \u001b[0;36m<module>\u001b[1;34m\u001b[0m\n\u001b[0;32m     53\u001b[0m \u001b[1;33m\u001b[0m\u001b[0m\n\u001b[0;32m     54\u001b[0m \u001b[1;32mfor\u001b[0m \u001b[0mrow\u001b[0m \u001b[1;32min\u001b[0m \u001b[0mp_l_list\u001b[0m\u001b[1;33m:\u001b[0m\u001b[1;33m\u001b[0m\u001b[1;33m\u001b[0m\u001b[0m\n\u001b[1;32m---> 55\u001b[1;33m     \u001b[0mprint\u001b[0m \u001b[1;33m(\u001b[0m\u001b[0mmax\u001b[0m\u001b[1;33m(\u001b[0m\u001b[0mrow\u001b[0m\u001b[1;33m-\u001b[0m\u001b[0mp_l_list\u001b[0m\u001b[1;33m[\u001b[0m\u001b[1;36m0\u001b[0m\u001b[1;33m]\u001b[0m\u001b[1;33m)\u001b[0m\u001b[1;33m)\u001b[0m\u001b[1;33m\u001b[0m\u001b[1;33m\u001b[0m\u001b[0m\n\u001b[0m\u001b[0;32m     56\u001b[0m     \u001b[0mprint\u001b[0m\u001b[1;33m\u001b[0m\u001b[1;33m\u001b[0m\u001b[0m\n\u001b[0;32m     57\u001b[0m \u001b[1;33m\u001b[0m\u001b[0m\n",
      "\u001b[1;31mTypeError\u001b[0m: 'int' object is not iterable"
     ]
    }
   ],
   "source": [
    "import csv\n",
    "\n",
    "#define variable here\n",
    "# count_date = 0\n",
    "# total_profitandlosses = 0\n",
    "avg_profitandlosses = 0\n",
    "max_profitandlosses = 0\n",
    "min_profitandlosses = 0\n",
    "date_list=[]\n",
    "p_l_list=[]\n",
    "minimum=0\n",
    "maximum=0\n",
    "\n",
    "with open('PyBank.csv') as csvfile:\n",
    "    readCSV = csv.reader(csvfile, delimiter=',')\n",
    "    header = next(readCSV)\n",
    "    print(f\"{header} <----HEADER\")\n",
    "\n",
    "    for row in readCSV:\n",
    "        date = row[0]\n",
    "        profitandlosses = int(row[1])\n",
    "        date_list.append(date)\n",
    "        p_l_list.append(profitandlosses)\n",
    "    \n",
    "count_date=0\n",
    "for each_date in date_list: \n",
    "    count_date=count_date+1\n",
    "    #count_date+=1\n",
    "print(count_date)\n",
    "\n",
    "total_profitandlosses=0\n",
    "for each_p_l in p_l_list: \n",
    "    total_profitandlosses=total_profitandlosses+each_p_l\n",
    "print(total_profitandlosses)\n",
    "\n",
    "# create a new list for just changes, say change_list\n",
    "#   iterate through p_l_list\n",
    "#   add to a new list the different between current element and prev element\n",
    "# p_l_list=change_list\n",
    "change_list=[]\n",
    "for i in range(1, 86): #[0, 1, 2, 3, ....84]\n",
    "    current_p_l=p_l_list[i]\n",
    "    prev_p_l=p_l_list[i-1]\n",
    "    diff_p_l=current_p_l-prev_p_l\n",
    "    change_list.append(diff_p_l)\n",
    "total_changes=0\n",
    "for each_p_l in change_list: \n",
    "    total_changes=total_changes+each_p_l\n",
    "print(total_changes/(count_date-1))\n",
    "#print(total_profitandlosses/count_date)\n",
    "\n",
    "#change in the values \n",
    "\n",
    "for row in p_l_list:\n",
    "    print (row-p_l_list[0])\n",
    "#Next step is to get the max and minimum\n",
    "\n",
    "\n",
    "\n",
    "    \n",
    "\n",
    "# my max will be my greatest change and my min will be my least decrease/change \n",
    "#print (date :, profit/losses )\n",
    "\n",
    "\n",
    "#print(date_list)\n",
    "#print(p_l_list)\n",
    "    \n"
   ]
  },
  {
   "cell_type": "code",
   "execution_count": null,
   "metadata": {},
   "outputs": [],
   "source": []
  },
  {
   "cell_type": "code",
   "execution_count": null,
   "metadata": {},
   "outputs": [],
   "source": [
    "Financial Analysis\n",
    "----------------------------\n",
    "Total Months: 86\n",
    "Total: $38382578\n",
    "Average  Change: $-2315.12\n",
    "Greatest Increase in Profits: Feb-2012 ($1926159)\n",
    "Greatest Decrease in Profits: Sep-2013 ($-2196167)\n"
   ]
  }
 ],
 "metadata": {
  "kernelspec": {
   "display_name": "Python 3",
   "language": "python",
   "name": "python3"
  },
  "language_info": {
   "codemirror_mode": {
    "name": "ipython",
    "version": 3
   },
   "file_extension": ".py",
   "mimetype": "text/x-python",
   "name": "python",
   "nbconvert_exporter": "python",
   "pygments_lexer": "ipython3",
   "version": "3.8.5"
  }
 },
 "nbformat": 4,
 "nbformat_minor": 4
}
